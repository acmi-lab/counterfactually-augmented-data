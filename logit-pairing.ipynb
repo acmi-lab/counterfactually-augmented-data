{
 "cells": [
  {
   "cell_type": "code",
   "execution_count": 2,
   "metadata": {},
   "outputs": [],
   "source": [
    "import numpy as np\n",
    "import pandas as pd\n",
    "import matplotlib.pyplot as plt\n",
    "\n",
    "from sklearn.model_selection import train_test_split\n",
    "\n",
    "import torch\n",
    "from torchtext.data import Field\n",
    "from keras.preprocessing.text import Tokenizer\n",
    "from keras.preprocessing.sequence import pad_sequences"
   ]
  },
  {
   "cell_type": "markdown",
   "metadata": {},
   "source": [
    "# There are no repeated batch_id values --> we can use them as IDs"
   ]
  },
  {
   "cell_type": "code",
   "execution_count": 3,
   "metadata": {},
   "outputs": [
    {
     "name": "stdout",
     "output_type": "stream",
     "text": [
      "unique IDs across all 3 sets: 2440\n",
      "sum of unique IDs in each: 2440\n"
     ]
    }
   ],
   "source": [
    "path = 'sentiment/combined/paired/{}_paired.tsv'\n",
    "train_path = path.format('train')\n",
    "val_path = path.format('dev')\n",
    "test_path = path.format('test')\n",
    "\n",
    "train_df = pd.read_table(train_path)\n",
    "val_df = pd.read_table(val_path)\n",
    "test_df = pd.read_table(test_path)\n",
    "\n",
    "all_ids = np.concatenate((train_df['batch_id'].unique(), val_df['batch_id'].unique(), test_df['batch_id'].unique()))\n",
    "print(f'unique IDs across all 3 sets: {len(np.unique(all_ids))}')\n",
    "sum_of_all = len(train_df['batch_id'].unique()) + len(val_df['batch_id'].unique()) + len(test_df['batch_id'].unique())\n",
    "print(f\"sum of unique IDs in each: {sum_of_all}\")"
   ]
  },
  {
   "cell_type": "markdown",
   "metadata": {},
   "source": [
    "# Preprocessing"
   ]
  },
  {
   "cell_type": "code",
   "execution_count": 14,
   "metadata": {},
   "outputs": [
    {
     "name": "stderr",
     "output_type": "stream",
     "text": [
      "/usr/local/anaconda3/envs/termpro/lib/python3.8/site-packages/torchtext/data/field.py:150: UserWarning: Field class will be retired soon and moved to torchtext.legacy. Please see the most recent release notes for further information.\n",
      "  warnings.warn('{} class will be retired soon and moved to torchtext.legacy. Please see the most recent release notes for further information.'.format(self.__class__.__name__), UserWarning)\n"
     ]
    },
    {
     "data": {
      "image/png": "[encoded data removed]",
      "text/plain": [
       "<Figure size 432x288 with 1 Axes>"
      ]
     },
     "metadata": {
      "needs_background": "light"
     },
     "output_type": "display_data"
    },
    {
     "data": {
      "image/png": "[encoded data removed]",
      "text/plain": [
       "<Figure size 432x288 with 1 Axes>"
      ]
     },
     "metadata": {
      "needs_background": "light"
     },
     "output_type": "display_data"
    }
   ],
   "source": [
    "# load data\n",
    "path = 'sentiment/combined/paired/{}_paired.tsv'\n",
    "train_path = path.format('train')\n",
    "val_path = path.format('dev')\n",
    "test_path = path.format('test')\n",
    "\n",
    "train_df = pd.read_table(train_path)\n",
    "val_df = pd.read_table(val_path)\n",
    "test_df = pd.read_table(test_path)\n",
    "\n",
    "# build text/label fields on factual and counterfactual data\n",
    "all_train_texts = train_df[\"Text\"].tolist()\n",
    "label_field = Field(sequential=False, use_vocab=False, batch_first=True, dtype=torch.float)\n",
    "text_field = Field(tokenize='spacy', lower=True, include_lengths=True, batch_first=True)\n",
    "text_field.build_vocab(all_train_texts, min_freq=3)\n",
    "\n",
    "# setup tokenizer\n",
    "tokenizer = Tokenizer(num_words=len(text_field.vocab), oov_token=True)\n",
    "tokenizer.fit_on_texts(all_train_texts)\n",
    "\n",
    "# split into factual and counterfactual\n",
    "# we'll do this now for simplicity, at the cost of some copy-pasting below\n",
    "train_IDs = train_df['batch_id'].values\n",
    "val_IDs = val_df['batch_id'].values\n",
    "test_IDs = test_df['batch_id'].values\n",
    "\n",
    "indices = list(range(len(train_df)))\n",
    "factual_indices, counterfactual_indices = train_test_split(indices, test_size=0.5, stratify=train_IDs)\n",
    "cf_train_df = train_df.iloc[counterfactual_indices]\n",
    "train_df = train_df.iloc[factual_indices]\n",
    "\n",
    "plt.hist(train_df['Sentiment'])\n",
    "plt.title('Train Factuals')\n",
    "plt.figure()\n",
    "plt.hist(cf_train_df['Sentiment'])\n",
    "plt.title('Train Counterfactuals')\n",
    "plt.show()\n",
    "\n",
    "indices = list(range(len(val_df)))\n",
    "factual_indices, counterfactual_indices = train_test_split(indices, test_size=0.5, stratify=val_IDs)\n",
    "cf_val_df = val_df.iloc[counterfactual_indices]\n",
    "val_df = val_df.iloc[factual_indices]\n",
    "\n",
    "indices = list(range(len(test_df)))\n",
    "factual_indices, counterfactual_indices = train_test_split(indices, test_size=0.5, stratify=test_IDs)\n",
    "cf_test_df = test_df.iloc[counterfactual_indices]\n",
    "test_df = test_df.iloc[factual_indices]\n",
    "\n",
    "\n",
    "# load text, labels, and IDs\n",
    "train_IDs = train_df['batch_id'].tolist()\n",
    "val_IDs = val_df['batch_id'].tolist()\n",
    "test_IDs = test_df['batch_id'].tolist()\n",
    "\n",
    "cf_train_IDs = cf_train_df['batch_id'].tolist()\n",
    "cf_val_IDs = cf_val_df['batch_id'].tolist()\n",
    "cf_test_IDs = cf_test_df['batch_id'].tolist()\n",
    "\n",
    "train_texts = train_df['Text'].tolist()\n",
    "val_texts = val_df['Text'].tolist()\n",
    "test_texts = test_df['Text'].tolist()\n",
    "\n",
    "cf_train_texts = cf_train_df['Text'].tolist()\n",
    "cf_val_texts = cf_val_df['Text'].tolist()\n",
    "cf_test_texts = cf_test_df['Text'].tolist()\n",
    "\n",
    "train_labels = (train_df['Sentiment'] == 'Positive').tolist()\n",
    "val_labels = (val_df['Sentiment'] == 'Positive').tolist()\n",
    "test_labels = (test_df['Sentiment'] == 'Positive').tolist()\n",
    "\n",
    "# tokenize, convert to sequences, and pad\n",
    "# note: using the same padding for factual/counterfactual dataset pairs \n",
    "#       not sure on this for val/test\n",
    "train_sequences = tokenizer.texts_to_sequences(train_texts)\n",
    "cf_train_sequences = tokenizer.texts_to_sequences(cf_train_texts)\n",
    "train_padding = max([len(i) for i in train_sequences] + \n",
    "                    [len(j) for j in cf_train_sequences])\n",
    "train_data = pad_sequences(train_sequences, maxlen=train_padding, padding='post')\n",
    "cf_train_data = pad_sequences(cf_train_sequences, maxlen=train_padding, padding='post')\n",
    "\n",
    "val_sequences = tokenizer.texts_to_sequences(val_texts)\n",
    "cf_val_sequences = tokenizer.texts_to_sequences(cf_val_texts)\n",
    "val_padding = max([len(i) for i in val_sequences] + \n",
    "                  [len(j) for j in cf_val_sequences])\n",
    "val_data = pad_sequences(val_sequences, maxlen=val_padding, padding='post')\n",
    "cf_val_data = pad_sequences(cf_val_sequences, maxlen=val_padding, padding='post')\n",
    "\n",
    "test_sequences = tokenizer.texts_to_sequences(test_texts)\n",
    "cf_test_sequences = tokenizer.texts_to_sequences(cf_test_texts)\n",
    "test_padding = max([len(i) for i in test_sequences] + \n",
    "                   [len(j) for j in cf_test_sequences])\n",
    "test_data = pad_sequences(test_sequences, maxlen=test_padding, padding='post')\n",
    "cf_test_data = pad_sequences(cf_test_sequences, maxlen=test_padding, padding='post')"
   ]
  },
  {
   "cell_type": "markdown",
   "metadata": {},
   "source": [
    "# Iterating with IDs "
   ]
  },
  {
   "cell_type": "code",
   "execution_count": 15,
   "metadata": {},
   "outputs": [],
   "source": [
    "batch_size = 32\n",
    "use_cuda = torch.cuda.is_available()\n",
    "device = torch.device(\"cuda:0\" if use_cuda else \"cpu\")\n",
    "\n",
    "def get_dataloader(data, labels, batch_size):\n",
    "    # Returns batch_size chunks of (encoded text, ID of text, label of text)\n",
    "    batches = []\n",
    "    for i in range(0, len(data), batch_size):\n",
    "        text_tensor = torch.tensor(data[i:i + batch_size], device=device, dtype=torch.long)\n",
    "        labels_tensor = torch.tensor(labels[i:i + batch_size], device=device, dtype=torch.float)\n",
    "        batches.append((text_tensor, labels_tensor))\n",
    "    return batches\n",
    "\n",
    "def get_cf_dataloader(data, data_IDs, cf_data, cf_IDs, labels, batch_size):\n",
    "    # Returns batch_size chunks of (encoded text, ID of text, label of text)\n",
    "    batches = []\n",
    "    for i in range(0, len(data), batch_size):\n",
    "        text_tensor = torch.tensor(data[i:i + batch_size], device=device, dtype=torch.long)\n",
    "        labels_tensor = torch.tensor(labels[i:i + batch_size], device=device, dtype=torch.float)\n",
    "        \n",
    "        cf_indices = [cf_IDs.index(data_ID) for data_ID in data_IDs[i:i + batch_size]]\n",
    "        cf_text_tensor = torch.tensor(cf_data[cf_indices], device=device, dtype=torch.long)\n",
    "        \n",
    "        batches.append((text_tensor, cf_text_tensor, labels_tensor))\n",
    "    return batches\n",
    "\n",
    "train_loader = get_cf_dataloader(train_data, train_IDs, cf_train_data, cf_train_IDs, train_labels, batch_size)\n",
    "val_loader = get_dataloader(val_data, val_labels, batch_size)\n",
    "# val_loader = get_cf_dataloader(val_data, val_IDs, cf_val_data, cf_val_IDs, val_labels, batch_size)\n",
    "test_loader = get_dataloader(test_data, test_labels, batch_size)\n",
    "# test_loader = get_cf_dataloader(test_data, test_IDs, cf_test_data, cf_test_IDs, test_labels, batch_size)"
   ]
  },
  {
   "cell_type": "code",
   "execution_count": 16,
   "metadata": {},
   "outputs": [],
   "source": [
    "def clp_loss(criterion, output, labels, cf_output, lambda_coef):\n",
    "    counterfactual_loss = (output - cf_output).abs().sum()\n",
    "    loss = criterion(output, labels) - lambda_coef * counterfactual_loss\n",
    "    return loss"
   ]
  },
  {
   "cell_type": "code",
   "execution_count": 18,
   "metadata": {},
   "outputs": [
    {
     "name": "stdout",
     "output_type": "stream",
     "text": [
      "tensor(40.6250)\n",
      "tensor(59.3750)\n",
      "tensor(53.1250)\n",
      "tensor(50.)\n",
      "tensor(46.8750)\n",
      "tensor(56.2500)\n",
      "tensor(50.)\n",
      "tensor(40.6250)\n",
      "tensor(46.8750)\n",
      "tensor(50.)\n",
      "tensor(65.6250)\n",
      "tensor(43.7500)\n",
      "tensor(50.)\n",
      "tensor(50.)\n",
      "tensor(53.1250)\n",
      "tensor(50.)\n",
      "tensor(65.6250)\n",
      "tensor(46.8750)\n",
      "tensor(56.2500)\n",
      "tensor(53.1250)\n",
      "tensor(53.1250)\n",
      "tensor(40.6250)\n",
      "tensor(25.)\n",
      "tensor(46.8750)\n",
      "tensor(56.2500)\n",
      "tensor(62.5000)\n",
      "tensor(43.7500)\n",
      "tensor(53.1250)\n",
      "tensor(53.1250)\n",
      "tensor(53.1250)\n",
      "tensor(56.2500)\n",
      "tensor(50.)\n",
      "tensor(62.5000)\n",
      "tensor(59.3750)\n",
      "tensor(46.8750)\n",
      "tensor(43.7500)\n",
      "tensor(59.3750)\n",
      "tensor(53.1250)\n",
      "tensor(40.6250)\n",
      "tensor(50.)\n",
      "tensor(43.7500)\n",
      "tensor(37.5000)\n",
      "tensor(37.5000)\n",
      "tensor(56.2500)\n",
      "tensor(46.8750)\n",
      "tensor(53.1250)\n",
      "tensor(37.5000)\n",
      "tensor(34.3750)\n",
      "tensor(62.5000)\n",
      "tensor(50.)\n",
      "tensor(50.)\n",
      "tensor(46.8750)\n",
      "tensor(53.1250)\n",
      "tensor(36.3636)\n"
     ]
    }
   ],
   "source": [
    "lambda_coef = 1\n",
    "criterion = torch.nn.BCELoss()\n",
    "\n",
    "for text, cf_text, labels in train_loader:\n",
    "    \n",
    "    # get factual predictions\n",
    "    output = torch.ones(labels.size())  # placeholder for model.predict(text)\n",
    "    \n",
    "    # get counterfactual predictions\n",
    "    cf_output = torch.ones(labels.size())  # placeholder for model.predict(cf_text)\n",
    "    \n",
    "    # compute CLP loss\n",
    "    loss = clp_loss(criterion, output, labels, cf_output, lambda_coef)\n",
    "    \n",
    "    print(loss)"
   ]
  },
  {
   "cell_type": "code",
   "execution_count": null,
   "metadata": {},
   "outputs": [],
   "source": []
  }
 ],
 "metadata": {
  "kernelspec": {
   "display_name": "Python 3",
   "language": "python",
   "name": "python3"
  },
  "language_info": {
   "codemirror_mode": {
    "name": "ipython",
    "version": 3
   },
   "file_extension": ".py",
   "mimetype": "text/x-python",
   "name": "python",
   "nbconvert_exporter": "python",
   "pygments_lexer": "ipython3",
   "version": "3.8.5"
  }
 },
 "nbformat": 4,
 "nbformat_minor": 4
}
